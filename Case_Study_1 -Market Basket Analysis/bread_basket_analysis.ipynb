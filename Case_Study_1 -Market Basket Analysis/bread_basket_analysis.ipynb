{
 "cells": [
  {
   "cell_type": "markdown",
   "id": "acd93300-3070-49c2-bc6c-b6b608b7fffc",
   "metadata": {},
   "source": [
    "## **Project Overview**"
   ]
  },
  {
   "cell_type": "markdown",
   "id": "ee3b271d-08f8-422b-befa-50a7e60d4bb8",
   "metadata": {},
   "source": [
    "The primary objective of this project is to assist the bakery company in increasing sales and customer base by leveraging association rule mining. \n",
    "\n",
    "We aim to identify relationships between items within dataset found [here](https://www.kaggle.com/datasets/mittalvasu95/the-bread-basket/data), which originates, according to the source, from a bakery in Edinburgh. Our goal is to uncover which products are frequently purchased together, quantify the strength of these co-occurrences, and provide strategic recommendations based on our findings.\n",
    "\n",
    "This analysis draws inspiration from the article [*\"A Conceptual Introduction into Association Rule Mining — Part 2\"*](https://medium.com/delvify/a-conceptual-introduction-into-association-rule-mining-part-2-96c73c4ce87b) authored by Annette Catherine Paul, published on August 13, 2021. My goal is to re-create and adapt her analysis, but with my own unique approach. I am driven by a curiosity to explore the outcomes and a desire to verify the accuracy of her conclusions. I respect her methodological process and see this project as a valuable opportunity to enhance my understanding, as she has extensive experience in the field.\n",
    "\n",
    "*“Imitation is not mechanical ‘parroting’, but complex, goal-oriented behavior which is central to learning” (Purainen-Marsh et al.2012)*"
   ]
  },
  {
   "cell_type": "markdown",
   "id": "e4608485-7810-4e85-b40c-4fe8cba77faf",
   "metadata": {},
   "source": [
    "### Main scope of work\n",
    "* [1. Data understanding & data wrangling](#Step1)\n",
    "* [2. Transactions encoding](#Step2)\n",
    "* [3. Tree map](#Step3)\n",
    "* [4. Apriori algorithm - frequent itemsets generation](#Step4)\n",
    "* [5. Association rules](#Step5)\n",
    "* [6. Visualizations for rules generated with support threshold 0.01](#Step6)\n",
    "* [7. Final conclusions and recommendations](#Step7)"
   ]
  },
  {
   "cell_type": "markdown",
   "id": "2f0a3506-a1e7-483b-94e7-fe3e735fb652",
   "metadata": {},
   "source": [
    "## **Modules**"
   ]
  },
  {
   "cell_type": "code",
   "execution_count": null,
   "id": "a09b8b84-d7e3-41ab-b943-4679f9a8b2d9",
   "metadata": {},
   "outputs": [],
   "source": [
    "import pandas as pd\n",
    "import numpy as np\n",
    "\n",
    "from mlxtend.frequent_patterns import apriori\n",
    "from mlxtend.frequent_patterns import association_rules\n",
    "from mlxtend.preprocessing import TransactionEncoder\n",
    "\n",
    "import squarify\n",
    "import networkx as nx\n",
    "import matplotlib\n",
    "import matplotlib.pyplot as plt \n",
    "from matplotlib import style \n",
    "import seaborn as sns \n",
    "sns. set()\n",
    "\n",
    "from PyARMViz import PyARMViz\n",
    "from PyARMViz.Rule import generate_rule_from_dict"
   ]
  },
  {
   "cell_type": "markdown",
   "id": "b87243a5-cfcf-491c-bb22-580bd85ff73d",
   "metadata": {},
   "source": [
    "## **1. Data understanding and data wrangling** <a id=\"Step1\"></a>"
   ]
  },
  {
   "cell_type": "code",
   "execution_count": null,
   "id": "2c9015d0-f508-4147-b04d-cc3b06afe387",
   "metadata": {},
   "outputs": [],
   "source": [
    "data_bakery = pd.read_csv('bread basket.csv')\n",
    "data_bakery"
   ]
  },
  {
   "cell_type": "code",
   "execution_count": null,
   "id": "4817d182-7f73-43bd-a452-fd1a113e9fec",
   "metadata": {},
   "outputs": [],
   "source": [
    "data_bakery.columns = ['Transaction', 'Item', 'Date_time', 'Period_day', 'Weekday_weekend']"
   ]
  },
  {
   "cell_type": "markdown",
   "id": "f4e94c5b-6b14-4bce-8297-0f3fe50efd1d",
   "metadata": {
    "jp-MarkdownHeadingCollapsed": true
   },
   "source": [
    "### **Data types & Missing values**"
   ]
  },
  {
   "cell_type": "code",
   "execution_count": null,
   "id": "473d6372-616d-4a09-ab0f-196a0d1b3630",
   "metadata": {},
   "outputs": [],
   "source": [
    "data_bakery.info()"
   ]
  },
  {
   "cell_type": "markdown",
   "id": "9a3a75c2-3bcf-478b-8c99-7e939d056612",
   "metadata": {},
   "source": [
    "No missing values"
   ]
  },
  {
   "cell_type": "code",
   "execution_count": null,
   "id": "f8dee396-28e1-4a1b-9190-f85fb52bf1c9",
   "metadata": {},
   "outputs": [],
   "source": [
    "data_bakery['Date_time'] = pd.to_datetime(data_bakery['Date_time'], dayfirst=True)"
   ]
  },
  {
   "cell_type": "code",
   "execution_count": null,
   "id": "8b8fadc2-20f8-4c49-a1b6-d8d9024c9d40",
   "metadata": {},
   "outputs": [],
   "source": [
    "#data_bakery.isnull().sum()"
   ]
  },
  {
   "cell_type": "markdown",
   "id": "14257d28-cabf-4e76-b5d8-fde3e5557cd2",
   "metadata": {},
   "source": [
    "### **Transactions**"
   ]
  },
  {
   "cell_type": "code",
   "execution_count": null,
   "id": "a31e5784-1eb6-4353-a190-0839ee992edb",
   "metadata": {},
   "outputs": [],
   "source": [
    "data_bakery['Transaction'].nunique()"
   ]
  },
  {
   "cell_type": "code",
   "execution_count": null,
   "id": "b1779ec8-e010-457d-8ca9-352dd793fef1",
   "metadata": {
    "scrolled": true
   },
   "outputs": [],
   "source": [
    "data_unique_trans = data_bakery.drop_duplicates(subset='Transaction')\n",
    "data_unique_trans.reset_index(drop=True)"
   ]
  },
  {
   "cell_type": "markdown",
   "id": "cbf7c544-10ea-464a-a854-36b9b184ed7d",
   "metadata": {},
   "source": [
    "A total of 9465 transactions were carried out."
   ]
  },
  {
   "cell_type": "markdown",
   "id": "10da6019-1099-4842-8fb2-83ae782094c9",
   "metadata": {},
   "source": [
    "### **Items**"
   ]
  },
  {
   "cell_type": "code",
   "execution_count": null,
   "id": "7f98d837-cc5b-4ed5-8802-d543957d2edc",
   "metadata": {},
   "outputs": [],
   "source": [
    "data_bakery['Item'].nunique()"
   ]
  },
  {
   "cell_type": "code",
   "execution_count": null,
   "id": "790daee0-2b98-4631-ac32-9b5e91875b42",
   "metadata": {
    "scrolled": true
   },
   "outputs": [],
   "source": [
    "sorted(data_bakery['Item'].unique())"
   ]
  },
  {
   "cell_type": "markdown",
   "id": "a120f028-11c6-45a1-ac7b-78a11d44cfaa",
   "metadata": {},
   "source": [
    "Insights: \n",
    "- There are no spelling mistakes, no typos, \n",
    "- The shop provides a well-rounded selection of products\n",
    "\n",
    "* Bakery items: various breads, cakes, pastries, and cookies\n",
    "* Confectionery: from chocolates and fudges to sweet snacks like popcorn and crisps\n",
    "* Savory meals, snacks and conidments: chicken stew, frittata, polenta, focaccia, tacos\n",
    "* Beverages:  both hot drinks like coffee and tea and cold options like juices and flavored water\n",
    "* Specialty and seasonal items: the shop offers products tailored to specific events (Christmas common, Valentine’s card) or dietary preferences, such as vegan options.\n",
    "* Gifts & extras: fift voucher, postcard, nomad bag, t-shirt, afternoon with the baker\n",
    "* And many more...                                                                                                                                                                                                                                                                                                                                                                                                                                                                           "
   ]
  },
  {
   "cell_type": "code",
   "execution_count": null,
   "id": "679f4573-fd33-42c6-9b59-3f58c4d24989",
   "metadata": {
    "scrolled": true
   },
   "outputs": [],
   "source": [
    "data_bakery['Item'].value_counts()"
   ]
  },
  {
   "cell_type": "markdown",
   "id": "53f0a271-e213-4700-be97-5c723e5bdf60",
   "metadata": {},
   "source": [
    "#### Network diagram \n",
    "The 30 most frequently purchased products across all transactions "
   ]
  },
  {
   "cell_type": "code",
   "execution_count": null,
   "id": "6b3d66bd-d75c-467e-87dc-fb1cbe03c5c4",
   "metadata": {
    "scrolled": true
   },
   "outputs": [],
   "source": [
    "top_items = data_bakery['Item'].value_counts().nlargest(30)\n",
    "top_items"
   ]
  },
  {
   "cell_type": "code",
   "execution_count": null,
   "id": "c014692c-523e-443a-9517-6a42f0f25b9b",
   "metadata": {
    "scrolled": true
   },
   "outputs": [],
   "source": [
    "df = pd.DataFrame({\n",
    "    'from': ['Bakary'] * len(top_items),\n",
    "    'to': top_items.index,\n",
    "    'value': top_items.values\n",
    "})\n",
    "\n",
    "# Build the graph\n",
    "G = nx.from_pandas_edgelist(df, 'from', 'to', create_using=nx.Graph())\n",
    "\n",
    "# Function to format labels\n",
    "def format_label(label):\n",
    "    if ' ' in label:\n",
    "        # Split label into two lines at the space\n",
    "        return '\\n'.join(label.split(' ', 1))\n",
    "    else:\n",
    "        # Return label as is\n",
    "        return label\n",
    "\n",
    "# Prepare labels with formatting\n",
    "formatted_labels = {node: format_label(node) for node in G.nodes()}\n",
    "\n",
    "# Draw the graph\n",
    "plt.figure(figsize=(8, 7))\n",
    "\n",
    "nx.draw(\n",
    "    G,\n",
    "    with_labels=True,                           # Show labels\n",
    "    node_color='#2166ac',                       # Dark red color for nodes\n",
    "    node_size=1800,                             # Size of the nodes\n",
    "    edge_color=df['value'],                     # Set edge color\n",
    "    width=8.0,                                 # Edge width\n",
    "    labels=formatted_labels,                    # Use formatted labels\n",
    "    font_color='white',                         # Set the label color to white\n",
    "    font_size=7,                                # Set the label size\n",
    "    edge_cmap=plt.cm.Blues                      # Edge color map \n",
    ")\n",
    "\n",
    "plt.title(\"Network Graph \\n Top 30 products at the bread basket bakery\", fontsize=15);"
   ]
  },
  {
   "cell_type": "markdown",
   "id": "cc8ce98c-f16c-4cb7-a61f-f04f4dfc67bd",
   "metadata": {},
   "source": [
    "Network graph was built based on [this code](https://python-graph-gallery.com/325-map-colour-to-the-edges-of-a-network/). \n",
    "\n",
    "The visibility of the line indicates the strength of the connection, meaning the more visible the line, the more frequently the product appears. \n",
    "\n",
    "**Among 94 available items, products purchased most frequently (represented by the most visible lines) are <u>coffee, bread, tea, and cake</u>**. "
   ]
  },
  {
   "cell_type": "markdown",
   "id": "476c0018-3aab-413f-b063-1dae53b4e945",
   "metadata": {},
   "source": [
    "### **Date_time**"
   ]
  },
  {
   "cell_type": "code",
   "execution_count": null,
   "id": "eadc26c7-bb3e-48df-b94c-33d7bcf7a6d4",
   "metadata": {},
   "outputs": [],
   "source": [
    "import plotly.express as px\n",
    "fig = px.line(data_unique_trans, x = 'Date_time', y ='Transaction' )\n",
    "fig.update_traces(line=dict(color='#B2182B', width=2))  \n",
    "\n",
    "fig.update_layout(\n",
    "    plot_bgcolor='white', \n",
    "    xaxis=dict(showgrid=True, gridcolor='#dee2e6'),  \n",
    "    yaxis=dict(showgrid=True, gridcolor='#dee2e6')\n",
    ")\n",
    "\n",
    "fig"
   ]
  },
  {
   "cell_type": "code",
   "execution_count": null,
   "id": "29d4178d-d6ee-4880-b00b-7e50e0acc821",
   "metadata": {},
   "outputs": [],
   "source": [
    "data_bakery['Date_time'].sort_values(ascending = False)"
   ]
  },
  {
   "cell_type": "code",
   "execution_count": null,
   "id": "8186b288-c917-472a-a405-d8a40560a525",
   "metadata": {},
   "outputs": [],
   "source": [
    "2000/30"
   ]
  },
  {
   "cell_type": "markdown",
   "id": "e3d0e753-bfb5-4df6-91b3-7c66f006db06",
   "metadata": {},
   "source": [
    "Every month, around 2000 transactions were conducted (it is around 67 transactions per day), indicating that the transactions are evenly distributed across the months.\n",
    "\n",
    "The dataset encompasses transactions from last days of October 2016 (starting from 30/10/2026) to the first days of April 2017 (up to 09/04/2027).This means **we have data covering approximately 5/6 months (roughly half of the year)**."
   ]
  },
  {
   "cell_type": "markdown",
   "id": "1c549e05-b34d-48b9-8fe6-8cadc47f2288",
   "metadata": {},
   "source": [
    "### **Period_day** \t"
   ]
  },
  {
   "cell_type": "code",
   "execution_count": null,
   "id": "11c7ec64-384e-4ecb-afc8-f3a034755108",
   "metadata": {},
   "outputs": [],
   "source": [
    "fig = px.line(data_unique_trans, x = 'Date_time', y ='Period_day' )\n",
    "fig.update_traces(line=dict(color='#67a9cf', width=2))  \n",
    "\n",
    "fig.update_layout(\n",
    "    plot_bgcolor='white', \n",
    "    xaxis=dict(showgrid=True, gridcolor='#dee2e6'),  \n",
    "    yaxis=dict(showgrid=True, gridcolor='#dee2e6')\n",
    ")\n",
    "\n",
    "fig"
   ]
  },
  {
   "cell_type": "code",
   "execution_count": null,
   "id": "b06fa157-6f45-4282-837b-c9fc8f1de59b",
   "metadata": {},
   "outputs": [],
   "source": [
    "round((data_unique_trans['Period_day'].value_counts() / data_unique_trans.shape[0]) * 100,2)"
   ]
  },
  {
   "cell_type": "code",
   "execution_count": null,
   "id": "7fe77815-01c9-4238-a3b9-509479e642cd",
   "metadata": {},
   "outputs": [],
   "source": [
    "53.77 + 43.35"
   ]
  },
  {
   "cell_type": "markdown",
   "id": "8789386d-04a4-4e1f-a67d-94d57e637467",
   "metadata": {},
   "source": [
    "Around 97% of transactions were conducted in the afternoon or morning, while evening and night are less popular.\n",
    "\n",
    "The next question is: what exactly does each period of the day mean and what are the hour ranges for each?"
   ]
  },
  {
   "cell_type": "code",
   "execution_count": null,
   "id": "13b0a538-9dfa-46a0-9d67-28320abcbad6",
   "metadata": {},
   "outputs": [],
   "source": [
    "#data_unique_trans[data_unique_trans['Period_day'] == 'afternoon']"
   ]
  },
  {
   "cell_type": "code",
   "execution_count": null,
   "id": "012ab74b-221e-4ecd-be6b-daa1b559d574",
   "metadata": {
    "scrolled": true
   },
   "outputs": [],
   "source": [
    "data_unique_trans[data_unique_trans['Period_day'] == 'morning']['Date_time'].dt.strftime('%H:%M').sort_values()"
   ]
  },
  {
   "cell_type": "markdown",
   "id": "a8948722-936f-4c29-970a-f3f388fa66fd",
   "metadata": {},
   "source": [
    "From the earliest classified transaction to the latest \n",
    "* morning: 01:21, next transaction 7:29 - 11:59\n",
    "* afternoon: 12:00 - 16:59 \n",
    "* evening: 17:00 - 20:46\n",
    "* night: 21:42 - 23:38\n",
    "\n",
    "Insights: \n",
    "\n",
    "The observed operating hours appear to be from 7:30 AM to 12:00 PM (There is just one transaction that is beyond the schedule - 01:21AM)\n",
    "Also some transactions occurred very late, which is quite unusual for a bakery.  \n",
    "\n",
    "Maybe the shop is open 24/7 or maybe some of the transactions were made online? "
   ]
  },
  {
   "cell_type": "markdown",
   "id": "3063bb80-ac62-4633-95b2-1d4f2b57a6b3",
   "metadata": {},
   "source": [
    "### **Weekday_weekend**"
   ]
  },
  {
   "cell_type": "code",
   "execution_count": null,
   "id": "5a0dcfb0-3b71-4978-881c-f36db1861e0a",
   "metadata": {
    "scrolled": true
   },
   "outputs": [],
   "source": [
    "round((data_unique_trans['Weekday_weekend'].value_counts() / data_unique_trans.shape[0]) * 100,2)"
   ]
  },
  {
   "cell_type": "markdown",
   "id": "34d57761-bb9c-415e-8de7-2caf3c58f606",
   "metadata": {},
   "source": [
    "65% of transactions occurred on weekdays, while 35% on weekends. "
   ]
  },
  {
   "cell_type": "code",
   "execution_count": null,
   "id": "9a35f914-3d26-4582-a181-688dc814b1f4",
   "metadata": {},
   "outputs": [],
   "source": [
    "round((data_unique_trans['Date_time'].dt.day_name().value_counts() / data_unique_trans.shape[0]) * 100,2)"
   ]
  },
  {
   "cell_type": "markdown",
   "id": "773d0e79-d184-4874-97ec-675003790251",
   "metadata": {},
   "source": [
    "The most transactions were conducted on Saturdays, which makes sense as this is a free day for many people, giving them more time for shopping. The shop is open every day of the week, whether it's a weekend or a weekday. However, it is likely closed on bank holidays, but this would need to be confirmed."
   ]
  },
  {
   "cell_type": "code",
   "execution_count": null,
   "id": "b0173206-72c3-442a-9eba-56b790561ff6",
   "metadata": {},
   "outputs": [],
   "source": [
    "data_unique_trans[data_unique_trans['Date_time'].dt.day_name() == 'Friday']"
   ]
  },
  {
   "cell_type": "markdown",
   "id": "f7d0b8a1-e03b-4d25-9f35-9aa69c0d05f3",
   "metadata": {},
   "source": [
    "Friday is treated as a weekday."
   ]
  },
  {
   "cell_type": "code",
   "execution_count": null,
   "id": "1894a843-f58e-44c8-b50b-1c688571d2e6",
   "metadata": {},
   "outputs": [],
   "source": [
    "transactions_weekend = data_unique_trans[data_unique_trans['Weekday_weekend'] =='weekend'].reset_index(drop = True)\n",
    "transactions_weekday = data_unique_trans[data_unique_trans['Weekday_weekend'] =='weekday'].reset_index(drop = True)"
   ]
  },
  {
   "cell_type": "code",
   "execution_count": null,
   "id": "b879aacb-494e-436b-8bf9-8dba5884b1b4",
   "metadata": {
    "scrolled": true
   },
   "outputs": [],
   "source": [
    "transactions_weekend['Date_time'].dt.strftime('%H:%M').sort_values()"
   ]
  },
  {
   "cell_type": "code",
   "execution_count": null,
   "id": "33418a02-c6e5-4bb7-8dd9-477e5501518f",
   "metadata": {
    "scrolled": true
   },
   "outputs": [],
   "source": [
    "transactions_weekday['Date_time'].dt.strftime('%H:%M').sort_values()"
   ]
  },
  {
   "cell_type": "markdown",
   "id": "311a2da3-1cbe-462f-8240-7e59695bfc05",
   "metadata": {},
   "source": [
    "The opening hours are similar for both weekends and weekdays."
   ]
  },
  {
   "cell_type": "markdown",
   "id": "0d9488ec-f70b-43e0-a885-312b4dfe54dd",
   "metadata": {
    "jp-MarkdownHeadingCollapsed": true
   },
   "source": [
    "### **Bank holidays**"
   ]
  },
  {
   "cell_type": "markdown",
   "id": "66458cbd-04bc-40b7-889f-481926eb63aa",
   "metadata": {},
   "source": [
    "List of fixed bank holidays in Scotland according to [wikipedia](https://en.wikipedia.org/wiki/Public_and_bank_holidays_in_Scotland) that could be included in our dataset is presented in dictionary bank_holidays."
   ]
  },
  {
   "cell_type": "code",
   "execution_count": null,
   "id": "ea612190-73ef-4690-8833-59ae830a65cf",
   "metadata": {},
   "outputs": [],
   "source": [
    "bank_holidays = [\n",
    "    '2016-11-30',  # St. Andrew's Day\n",
    "    '2016-12-25',  # Christmas Day\n",
    "    '2016-12-26',  # Boxing Day\n",
    "    '2017-01-01',  # New Year's Day\n",
    "    '2017-01-02',  # 2nd January\n",
    "]\n",
    "\n",
    "#bank_holidays += ['2016-03-25', '2017-04-14']  # Good Friday for 2016 and 2017\n",
    "bank_holidays = pd.to_datetime(bank_holidays)"
   ]
  },
  {
   "cell_type": "code",
   "execution_count": null,
   "id": "595bfad1-0a0d-4b43-a9be-e6c9ee9dc763",
   "metadata": {
    "scrolled": true
   },
   "outputs": [],
   "source": [
    "bank_holiday_transactions = data_unique_trans[data_unique_trans['Date_time'].dt.date.isin(bank_holidays.date)]\n",
    "bank_holiday_transactions.reset_index(drop=True)"
   ]
  },
  {
   "cell_type": "code",
   "execution_count": null,
   "id": "c0293cb6-603a-40c0-8ff3-f4cf27babd87",
   "metadata": {
    "scrolled": true
   },
   "outputs": [],
   "source": [
    "bank_holiday_transactions[bank_holiday_transactions['Transaction'] == 4090]"
   ]
  },
  {
   "cell_type": "markdown",
   "id": "6367b31c-d9e5-46f3-8d19-97c4e4e87405",
   "metadata": {},
   "source": [
    "Someone bought bread at 1:21AM on New Year's Day. Is it possible? "
   ]
  },
  {
   "cell_type": "code",
   "execution_count": null,
   "id": "3c596fe0-6de0-4b2c-88e9-9dffc4c76794",
   "metadata": {},
   "outputs": [],
   "source": [
    "bank_holiday_transactions.shape"
   ]
  },
  {
   "cell_type": "code",
   "execution_count": null,
   "id": "e0474b58-8df7-4081-80d6-2d99650fdc0a",
   "metadata": {
    "scrolled": true
   },
   "outputs": [],
   "source": [
    "bank_holiday_transactions['Date_time'].dt.day_name()"
   ]
  },
  {
   "cell_type": "markdown",
   "id": "531085a2-ac72-440e-bfdf-f1b9d704c321",
   "metadata": {},
   "source": [
    "There is one transaction that appears to be an outlier. It is the only transaction made on New Year's Day. The timing of the transaction is somewhat explainable, as people often stay up late to celebrate, which might be normal for some types of shops, however, it is unusual for a bakery.\n",
    "\n",
    "Regarding other bank holidays, we can assume that the shop is closed just on major holidays because for example, on St. Andrew's Day the shop is open, but it is possible that the opening hours are reduced, as the last transaction on that day occurred around 5 PM."
   ]
  },
  {
   "cell_type": "markdown",
   "id": "741f71ee-ba68-49b0-8d28-a72fad2a02c2",
   "metadata": {},
   "source": [
    "### **To sum up**"
   ]
  },
  {
   "cell_type": "markdown",
   "id": "3c28b156-332e-4b8e-9e1e-509b2f301fda",
   "metadata": {},
   "source": [
    "The dataset is complete with no errors or missing values, consisting of 9465 transactions and 94 unique products. The most popular products are coffee, bread, tea, and cake. Transactions are evenly distributed with approximately 2000 transactions per month, covering roughly half a year from October 30, 2016, to April 9, 2017.\n",
    "\n",
    "The majority of transactions (97%) occur in the morning or afternoon, with fewer transactions in the evening and at night. The observed operating hours of the shop appear to be from 7:30 AM to 12:00 PM.\n",
    "\n",
    "Weekdays account for 65% of transactions, while weekends for 35%. Saturdays are the busiest days, likely due to the increased availability of customers. The shop operates every day of the week, but it is presumed to be closed on major bank holidays.\n",
    "\n",
    "Additionally, there is one outlier transaction made at 01:21AM on New Year's Day. This late transaction is unusual for a bakery but may be explained by the celebratory nature of the holiday."
   ]
  },
  {
   "cell_type": "markdown",
   "id": "875d13f2-8c56-42f2-b485-f6ab2bc2f8c5",
   "metadata": {},
   "source": [
    "## **2. Transactions encoding** <a id=\"Step2\"></a>"
   ]
  },
  {
   "cell_type": "code",
   "execution_count": null,
   "id": "15cbc531-31ff-47be-8c5c-bb7359376d96",
   "metadata": {
    "scrolled": true
   },
   "outputs": [],
   "source": [
    "basket =  data_bakery[['Transaction','Item']]\n",
    "basket.head(50)"
   ]
  },
  {
   "cell_type": "markdown",
   "id": "0b9b1d5b-a50a-48e0-ae16-4c5df558d25f",
   "metadata": {},
   "source": [
    "The items purchased for each transaction."
   ]
  },
  {
   "cell_type": "code",
   "execution_count": null,
   "id": "c4663670-1695-45c6-bfbd-0afbd463b844",
   "metadata": {
    "scrolled": true
   },
   "outputs": [],
   "source": [
    "transactions = [ a[1]['Item'].tolist() for a in list(basket.groupby(['Transaction']))]\n",
    "transactions"
   ]
  },
  {
   "cell_type": "code",
   "execution_count": null,
   "id": "d76f57c1-67d0-4d50-a69d-4e805c46d0ce",
   "metadata": {},
   "outputs": [],
   "source": [
    "# We have 9465 transactions\n",
    "len(transactions) "
   ]
  },
  {
   "cell_type": "markdown",
   "id": "b8491d09-da8b-43a9-8dd9-fdcbff573655",
   "metadata": {},
   "source": [
    "Convert a list of transactions into a one-hot encoded NumPy array. To encode the data  *TransactionEncoder* class from the *mlxtend library* was used."
   ]
  },
  {
   "cell_type": "code",
   "execution_count": null,
   "id": "69739042-a90e-4f67-8cd6-7d1b407590f7",
   "metadata": {},
   "outputs": [],
   "source": [
    "te = TransactionEncoder()\n",
    "te_ary = te.fit_transform(transactions)\n",
    "te_ary"
   ]
  },
  {
   "cell_type": "code",
   "execution_count": null,
   "id": "2a8d6d96-ab11-4fa4-b048-f8bf5c8b57bc",
   "metadata": {
    "scrolled": true
   },
   "outputs": [],
   "source": [
    "transactions_df = pd.DataFrame(te_ary,columns = te.columns_)\n",
    "transactions_df"
   ]
  },
  {
   "cell_type": "code",
   "execution_count": null,
   "id": "85be70dd-0e48-4767-893a-f0e0b2c96437",
   "metadata": {
    "scrolled": true
   },
   "outputs": [],
   "source": [
    "# convert False to 0, True to 1\n",
    "transactions_df_int = transactions_df.astype(int)\n",
    "transactions_df_int"
   ]
  },
  {
   "cell_type": "markdown",
   "id": "1882287b-2c9b-4b21-b5b2-314b815c2f22",
   "metadata": {},
   "source": [
    "The resulting array where each transaction is represented by a row with one-hot encoding indicating the presence of each unique item."
   ]
  },
  {
   "cell_type": "code",
   "execution_count": null,
   "id": "288e7280-c24c-41d5-8741-93899c791d08",
   "metadata": {
    "scrolled": true
   },
   "outputs": [],
   "source": [
    "transactions_df_int.sum(axis=0)"
   ]
  },
  {
   "cell_type": "code",
   "execution_count": null,
   "id": "bd8d5ff3-795e-4219-8433-3e14de7beec5",
   "metadata": {},
   "outputs": [],
   "source": [
    "item_count_df = pd.DataFrame(transactions_df_int.sum(axis=0))\n",
    "item_count_df = item_count_df.reset_index()\n",
    "item_count_df.columns = ['Item', 'Count']"
   ]
  },
  {
   "cell_type": "code",
   "execution_count": null,
   "id": "849aa393-5612-4f11-abec-3d53bc311e9e",
   "metadata": {},
   "outputs": [],
   "source": [
    "item_count_df"
   ]
  },
  {
   "cell_type": "markdown",
   "id": "b37deb3c-174c-4a89-b915-97808892d59d",
   "metadata": {},
   "source": [
    "## **3. Tree map** of the top 30 items based on their count <a id=\"Step3\"></a> "
   ]
  },
  {
   "cell_type": "markdown",
   "id": "f0ba4db5-88ec-41b7-9c33-e047c270eb0d",
   "metadata": {},
   "source": [
    "A tree map is a visual representation of hierarchical data, where each branch is represented by a rectangle and its size is proportional to the data value it represents."
   ]
  },
  {
   "cell_type": "code",
   "execution_count": null,
   "id": "dee456c8-1fe5-4adb-ad8d-beadf0077be7",
   "metadata": {
    "scrolled": true
   },
   "outputs": [],
   "source": [
    "item_count_df_30 = item_count_df.sort_values('Count', ascending = False).head(30)\n",
    "item_count_df_30"
   ]
  },
  {
   "cell_type": "code",
   "execution_count": null,
   "id": "07d4269a-43af-49a8-a36b-dc3049f59fa0",
   "metadata": {},
   "outputs": [],
   "source": [
    "import matplotlib.cm as cm\n",
    "def split_label(label, max_words=1):\n",
    "    words = label.split()\n",
    "    return '\\n'.join([' '.join(words[i:i + max_words]) for i in range(0, len(words), max_words)])\n",
    "\n",
    "# Apply the function to split the labels\n",
    "item_count_df_30['Item'] = item_count_df_30['Item'].apply(split_label)\n",
    "\n",
    "# Plotting\n",
    "fig, ax = plt.subplots(figsize=(13, 8))  # Larger plot\n",
    "\n",
    "#cmap = matplotlib.cm.coolwarm\n",
    "cmap = plt.get_cmap(\"RdBu\")\n",
    "mini = min(item_count_df_30['Count'])\n",
    "maxi = max(item_count_df_30['Count'])\n",
    "norm = matplotlib.colors.Normalize(vmin=mini, vmax=maxi)\n",
    "colors = [cmap(norm(value)) for value in item_count_df_30['Count']]\n",
    "\n",
    "squarify.plot(sizes=item_count_df_30['Count'], label=item_count_df_30['Item'],alpha = 0.95, color=colors, text_kwargs={'fontsize': 8.5,'color': 'white'})\n",
    "\n",
    "plt.axis('off')  # Turn off the axes\n",
    "plt.show()  "
   ]
  },
  {
   "cell_type": "markdown",
   "id": "db9508d1-3c62-432e-8ed7-db1ca6d42ae6",
   "metadata": {},
   "source": [
    "As noted earlier, the most popular items, represented by the largest rectangles, are coffee, bread, tea, cake + items typically regarded as side dishes or supplementary offerings rather than main courses."
   ]
  },
  {
   "cell_type": "markdown",
   "id": "03054a00-b39a-4238-93d8-662f5b59af2c",
   "metadata": {},
   "source": [
    "## **4. Apriori algorithm - frequent itemsets generation** <a id=\"Step4\"></a>"
   ]
  },
  {
   "cell_type": "markdown",
   "id": "17e7392d-e49d-4f75-b2e1-46bbf65842d1",
   "metadata": {},
   "source": [
    "The *apriori* function implements the Apriori algorithm, which finds frequent itemsets in transactional data. "
   ]
  },
  {
   "cell_type": "markdown",
   "id": "f20b0ddb-b39d-4de5-b614-375d2813606c",
   "metadata": {},
   "source": [
    "In the output:\n",
    "\n",
    "* **support: the proportion of transactions that contain the itemset**\n",
    "\n",
    "* **itemsets: the itemsets that meet the support threshold**"
   ]
  },
  {
   "cell_type": "markdown",
   "id": "b5f6de93-04d9-4e55-b8de-edcf27548258",
   "metadata": {},
   "source": [
    "Support threshold -> beyond it, items are considered significant, that have meaningful impact on profit"
   ]
  },
  {
   "cell_type": "markdown",
   "id": "eff48b69-7a4c-45e4-92a3-feedb5136cc0",
   "metadata": {
    "jp-MarkdownHeadingCollapsed": true
   },
   "source": [
    "#### a) support threshold 0.05 \n",
    "We choose only itemsets that appear in more than 5% of transactions ( more than 473 times)"
   ]
  },
  {
   "cell_type": "code",
   "execution_count": null,
   "id": "0079ac3d-fcd2-4b41-abdc-33a1c20112b3",
   "metadata": {
    "scrolled": true
   },
   "outputs": [],
   "source": [
    "len(transactions) * 0.05"
   ]
  },
  {
   "cell_type": "code",
   "execution_count": null,
   "id": "413db85f-2ca8-49eb-836e-a8a80173668f",
   "metadata": {},
   "outputs": [],
   "source": [
    "frequent_itemsets_0_05 = apriori(transactions_df,min_support = 0.05, use_colnames = True, max_len = 3) # only itemsets with up to 3 items\n",
    "frequent_itemsets_0_05"
   ]
  },
  {
   "cell_type": "code",
   "execution_count": null,
   "id": "695e5bf9-6792-4331-9025-08d3f25ee7a1",
   "metadata": {},
   "outputs": [],
   "source": [
    "frequent_itemsets_0_05['length'] = frequent_itemsets_0_05['itemsets'].apply(lambda x: len(x))"
   ]
  },
  {
   "cell_type": "code",
   "execution_count": null,
   "id": "512c59ec-f158-4e2a-b57c-351a5ef1a8f0",
   "metadata": {},
   "outputs": [],
   "source": [
    "#frequent_itemsets_0_05.sort_values('support', ascending=False)"
   ]
  },
  {
   "cell_type": "code",
   "execution_count": null,
   "id": "3d8171b3-7820-4e8d-bd88-b97c4bca109b",
   "metadata": {
    "scrolled": true
   },
   "outputs": [],
   "source": [
    "frequent_itemsets_0_05[frequent_itemsets_0_05['length']== 1].sort_values('support', ascending=False)"
   ]
  },
  {
   "cell_type": "code",
   "execution_count": null,
   "id": "f74b43bf-b2ab-4fa6-8fa7-1761778f0547",
   "metadata": {
    "scrolled": true
   },
   "outputs": [],
   "source": [
    "frequent_itemsets_0_05[frequent_itemsets_0_05['length']== 2].sort_values('support', ascending=False)"
   ]
  },
  {
   "cell_type": "code",
   "execution_count": null,
   "id": "1953926c-6d96-4349-b8bf-6162b15f01e9",
   "metadata": {
    "scrolled": true
   },
   "outputs": [],
   "source": [
    "frequent_itemsets_0_05[frequent_itemsets_0_05['length']== 3].sort_values('support', ascending=False)"
   ]
  },
  {
   "cell_type": "markdown",
   "id": "63efc50d-1571-4224-9bec-0bb268b21333",
   "metadata": {},
   "source": [
    "#### a) support threshold 0.01  \n",
    "We select only itemsets that appear in more than 1% of transactions ( more than 94 times )"
   ]
  },
  {
   "cell_type": "code",
   "execution_count": null,
   "id": "101a3204-6f46-4a59-b969-e7b5794e0745",
   "metadata": {},
   "outputs": [],
   "source": [
    "len(transactions) * 0.01"
   ]
  },
  {
   "cell_type": "code",
   "execution_count": null,
   "id": "69993a00-f2b9-40a4-94cd-598924fd0ca5",
   "metadata": {},
   "outputs": [],
   "source": [
    "frequent_itemsets_0_01 = apriori(transactions_df,min_support = 0.01, use_colnames = True, max_len = 3)\n",
    "#frequent_itemsets_0_01"
   ]
  },
  {
   "cell_type": "code",
   "execution_count": null,
   "id": "b5db0b84-a5ba-4499-8c19-98e8b0db5981",
   "metadata": {},
   "outputs": [],
   "source": [
    "frequent_itemsets_0_01['length'] = frequent_itemsets_0_01['itemsets'].apply(lambda x: len(x))"
   ]
  },
  {
   "cell_type": "code",
   "execution_count": null,
   "id": "09574c7d-27b1-4993-b19b-6d4f3d4873c6",
   "metadata": {},
   "outputs": [],
   "source": [
    "frequent_itemsets_0_01.sort_values('support', ascending=False)"
   ]
  },
  {
   "cell_type": "code",
   "execution_count": null,
   "id": "b0de147f-dd46-40ee-afd5-cbeaa5cf97d4",
   "metadata": {
    "scrolled": true
   },
   "outputs": [],
   "source": [
    "#frequent_itemsets_0_01[frequent_itemsets_0_01['length']== 1].sort_values('support', ascending=False)"
   ]
  },
  {
   "cell_type": "code",
   "execution_count": null,
   "id": "2bff0e8a-d72e-44c5-8cc9-fd874451297d",
   "metadata": {
    "scrolled": true
   },
   "outputs": [],
   "source": [
    "#frequent_itemsets_0_01[frequent_itemsets_0_01['length']== 2].sort_values('support', ascending=False)"
   ]
  },
  {
   "cell_type": "code",
   "execution_count": null,
   "id": "b530b018-b3c5-4e1f-b65b-4e2b177fee5e",
   "metadata": {
    "scrolled": true
   },
   "outputs": [],
   "source": [
    "frequent_itemsets_0_01[frequent_itemsets_0_01['length']== 3].sort_values('support', ascending=False)"
   ]
  },
  {
   "cell_type": "markdown",
   "id": "00aec8c6-06a2-4c42-8a00-2fe459a56e71",
   "metadata": {},
   "source": [
    "#### Comparison "
   ]
  },
  {
   "cell_type": "code",
   "execution_count": null,
   "id": "c66a817e-a39f-4547-ab77-0a1c6406b0a5",
   "metadata": {},
   "outputs": [],
   "source": [
    "frequent_itemsets_0_05.shape"
   ]
  },
  {
   "cell_type": "code",
   "execution_count": null,
   "id": "477f509c-444b-4138-a199-fb60ec65c51a",
   "metadata": {},
   "outputs": [],
   "source": [
    "frequent_itemsets_0_01.shape"
   ]
  },
  {
   "cell_type": "markdown",
   "id": "87964078-98c0-4649-a1b4-bf13895e18a4",
   "metadata": {},
   "source": [
    "Frequent itemsets only differ in the number of itemsets. The first one (with support threshold 5%) contains 11 itemsets, another 61 itemsets (50 itemsets more). \n",
    "\n",
    "In both: \n",
    "\n",
    "- coffee is present in about 48% of the transactions -> nearly half of the transactions includes coffee !!!\n",
    "- bread appears in about 33% of the transactions\n",
    "- tea in 14%\n",
    "- cake in 10%\n",
    "- coffee and bread in around 9%, while coffee and cake in around 6%\n",
    "\n",
    "Additionally, in the *frequent_itemsets_0_01* we have also itemsets composed of 3 items. In about 1% of the transactions (Coffee, Bread, Pastry) or (Coffee, Bread, Cake) or (Coffee, Cake, Tea) appear together. \n",
    "\n",
    "What is more, coffee is extremely popular. In the *frequent_itemsets_0_01* in itemsets of 2 items, it appears almost everywhere -> coffee is a highly frequent item. "
   ]
  },
  {
   "cell_type": "markdown",
   "id": "043ec972-ddba-4e31-9dbc-d27f2a767b47",
   "metadata": {},
   "source": [
    "## **5. Association rules** <a id=\"Step5\"></a>"
   ]
  },
  {
   "cell_type": "markdown",
   "id": "0642254d-8520-466d-8505-97e29723b5f9",
   "metadata": {
    "jp-MarkdownHeadingCollapsed": true
   },
   "source": [
    "#### Theory"
   ]
  },
  {
   "cell_type": "markdown",
   "id": "d36a0995-b078-40ba-bc4d-3bdb449ae1ac",
   "metadata": {},
   "source": [
    "Association_rules function, from the mlxtend library, generates association rules from the frequent itemsets. It is used to discover interesting relationships between items in large datasets.\n",
    "\n",
    "Antecedent ⇒ Consequent\n",
    "\n",
    "      IF  ⇒  THEN \n",
    "\n",
    "        X ⇒ Y\n",
    "        \n",
    "If a customer buys X, he/she is likely to also buy Y\n",
    "\n",
    "<u>Key metrics</u>\n",
    "* **support - how frequently the antecedent and consequent occur together in the dataset**\n",
    "\n",
    "example: support = 0.02 = 2% -> the combination of itmes in a set appears in 2% of all transactions\n",
    "\n",
    "* **confidence - how likely you are to buy one item if you have already bought another** \n",
    "\n",
    "example: confidence = 0.75 = 75% -> There is a 75% chance that if you bought X, you would buy Y\n",
    "\n",
    "* **lift - it indicates if one item truly boosts the sale of another**\n",
    "\n",
    "example lift = 26.8 -> the two items are purchased together almost 27 times more often than expected if they were bought separately\n",
    "\n",
    "lift > 1 - Y is likely to be bought with X \n",
    "\n",
    "lift = 1 - no associations between items \n",
    "\n",
    "lift < 1 - Y is unlikely to be bought with X \n",
    "\n",
    "High support ensures the rule is relevant, high confidence ensures the rule is reliable, and high lift ensures the rule reveals meaningful and non-random associations.\n",
    "\n",
    "<u> What we are interested in are high support, confidence, and lift.</u> This indicates frequent, strong, significant associations between items."
   ]
  },
  {
   "cell_type": "markdown",
   "id": "01a94636-81f4-4b91-a345-3ca259c4593f",
   "metadata": {},
   "source": [
    "#### a) support threshold 0.05 "
   ]
  },
  {
   "cell_type": "code",
   "execution_count": null,
   "id": "1ba0fa0f-a425-4c9c-9b2d-65c9deb35f85",
   "metadata": {},
   "outputs": [],
   "source": [
    "rules_0_05 = association_rules(frequent_itemsets_0_05, metric='lift', min_threshold = 0.05)\n",
    "rules_0_05.sort_values([\"confidence\"], axis = 0, ascending = False)"
   ]
  },
  {
   "cell_type": "markdown",
   "id": "e0b94a8c-1a65-484a-a9fb-d4f637ea0854",
   "metadata": {},
   "source": [
    "Interpretation of the first rule: \n",
    "\n",
    "- 5.47% of transactions include both Cake and Coffee\n",
    "- 52.70% of transactions with Cake also include Coffee\n",
    "- The likelihood of Coffee being purchased with Cake is about 1.10 times higher than if they were independent"
   ]
  },
  {
   "cell_type": "markdown",
   "id": "b03e6c74-ee47-469f-b396-c4f6045f144e",
   "metadata": {},
   "source": [
    "The rules with positive lift values (Cake → Coffee and Coffee → Cake) suggest a moderate positive association between these items. \n",
    "\n",
    "The rules with negative lift values (Bread → Coffee and Coffee → Bread) suggest a weaker or negative association. In other words, the presence of one item actually decreases the likelihood of finding the other item in the same transaction."
   ]
  },
  {
   "cell_type": "markdown",
   "id": "c16a0d50-6d76-4f93-a07f-a63b81d3a254",
   "metadata": {},
   "source": [
    "#### a) support threshold 0.01  "
   ]
  },
  {
   "cell_type": "code",
   "execution_count": null,
   "id": "99105ee5-4079-4cd3-83d8-f79ec2a3c269",
   "metadata": {},
   "outputs": [],
   "source": [
    "rules_0_01 = association_rules(frequent_itemsets_0_01, metric='lift', min_threshold = 0.01)\n",
    "rules_0_01.sort_values([\"confidence\"], axis = 0, ascending = False)"
   ]
  },
  {
   "cell_type": "markdown",
   "id": "fd11afa9-0771-43e0-a4ed-d4f32fb78260",
   "metadata": {},
   "source": [
    "The first few rules show positive associations between various antecedents and Coffee. \n",
    "\n",
    "When Toast/Spanish Brunch/Medialuna..  is purchased, it’s quite likely that Coffee will be purchased as well. "
   ]
  },
  {
   "cell_type": "markdown",
   "id": "15434cd4-fe0f-4dce-a685-88727ddf0440",
   "metadata": {},
   "source": [
    "## **6. Visualizations** for rules generated with support threshold 0.01 <a id=\"Step6\"></a>"
   ]
  },
  {
   "cell_type": "markdown",
   "id": "a664aaa9-fe6c-43f2-8b28-fc863fb566b2",
   "metadata": {
    "jp-MarkdownHeadingCollapsed": true
   },
   "source": [
    "### **Heatmap**"
   ]
  },
  {
   "cell_type": "markdown",
   "id": "ae12289c-0fb7-406b-bfee-1312984cdf6e",
   "metadata": {},
   "source": [
    "The heatmap will help visualize the strength of associations between antecedents (2 items) and consequents (1 item) based on the lift metric.\n",
    "\n",
    "lift > 1 -> if item X is bought, item Y too - strong relationship; useful for cross-promotional strategies or bundling products\n",
    "\n",
    "lift = 1 -> no association; no specific action might be needed\n",
    "\n",
    "lift < 1 -> if item X is bought, item Y is not - weak relationship; items might not be complementary or could even be less likely to be purchased together, so it is better not to combine them"
   ]
  },
  {
   "cell_type": "code",
   "execution_count": null,
   "id": "ed1b12f8-ae98-4436-b4a2-93001ffe1c19",
   "metadata": {},
   "outputs": [],
   "source": [
    "# https://python-graph-gallery.com/heatmap/"
   ]
  },
  {
   "cell_type": "code",
   "execution_count": null,
   "id": "1b2079dc-55b5-4875-8cf7-50edf67b1d54",
   "metadata": {},
   "outputs": [],
   "source": [
    "rules_0_01['antecedents length'] = rules_0_01['antecedents'].apply(lambda x: len(x))"
   ]
  },
  {
   "cell_type": "code",
   "execution_count": null,
   "id": "fbd7775f-165b-4ce4-b5a0-4ff3022f9328",
   "metadata": {},
   "outputs": [],
   "source": [
    "rules_0_01['consequents length'] = rules_0_01['consequents'].apply(lambda x: len(x))"
   ]
  },
  {
   "cell_type": "code",
   "execution_count": null,
   "id": "80a1c591-aace-4ff3-be7e-e2caf0a9ffc2",
   "metadata": {
    "scrolled": true
   },
   "outputs": [],
   "source": [
    "#sanity check\n",
    "#rules_0_01.tail(20)"
   ]
  },
  {
   "cell_type": "code",
   "execution_count": null,
   "id": "3f42c53c-d876-4a02-96bb-8bd5e14d6230",
   "metadata": {},
   "outputs": [],
   "source": [
    "rules_0_01_filtered = rules_0_01[(rules_0_01['antecedents length'] == 2) & (rules_0_01['consequents length'] == 1) ].reset_index(drop=True)"
   ]
  },
  {
   "cell_type": "code",
   "execution_count": null,
   "id": "c012bd4f-ab61-4165-8c39-2bde170b0448",
   "metadata": {
    "scrolled": true
   },
   "outputs": [],
   "source": [
    "rules_0_01_filtered"
   ]
  },
  {
   "cell_type": "code",
   "execution_count": null,
   "id": "f31d0af5-ad99-475c-8767-0131b21df250",
   "metadata": {},
   "outputs": [],
   "source": [
    "rules_0_01_filtered.shape"
   ]
  },
  {
   "cell_type": "code",
   "execution_count": null,
   "id": "44d43adc-959f-424d-8153-72ce06e25c6f",
   "metadata": {},
   "outputs": [],
   "source": [
    "heatmap_df = rules_0_01_filtered.pivot(\n",
    "    index='antecedents',\n",
    "    columns='consequents',\n",
    "    values='lift',\n",
    ")"
   ]
  },
  {
   "cell_type": "code",
   "execution_count": null,
   "id": "1a9aa176-3407-42dc-9cf3-bca1f82c8770",
   "metadata": {
    "scrolled": true
   },
   "outputs": [],
   "source": [
    "heatmap_df"
   ]
  },
  {
   "cell_type": "code",
   "execution_count": null,
   "id": "bb603107-5a73-4cc6-a89d-b371f440e299",
   "metadata": {},
   "outputs": [],
   "source": [
    "heatmap_df.index = heatmap_df.index.map(lambda x: '_'.join(x))\n",
    "heatmap_df.index.name = None"
   ]
  },
  {
   "cell_type": "code",
   "execution_count": null,
   "id": "368bdef3-47c7-4dd6-9a6b-e6305de45842",
   "metadata": {
    "scrolled": true
   },
   "outputs": [],
   "source": [
    "# for col in heatmap_df.columns:\n",
    "#     #print(col)\n",
    "#     print(next(iter(col)) )"
   ]
  },
  {
   "cell_type": "code",
   "execution_count": null,
   "id": "4234a840-a103-4a3a-ae54-be3ceccc1df0",
   "metadata": {},
   "outputs": [],
   "source": [
    "heatmap_df.columns = [next(iter(col)) for col in heatmap_df.columns]\n",
    "heatmap_df.columns "
   ]
  },
  {
   "cell_type": "code",
   "execution_count": null,
   "id": "1bbcae23-eab1-418a-8b32-4b7f29b44906",
   "metadata": {},
   "outputs": [],
   "source": [
    "heatmap_df"
   ]
  },
  {
   "cell_type": "markdown",
   "id": "167582c1-be18-4b5a-8240-0bace9f64855",
   "metadata": {},
   "source": [
    "### Heatmap plot "
   ]
  },
  {
   "cell_type": "code",
   "execution_count": null,
   "id": "3b924651-200d-4b30-91af-723a9c76d739",
   "metadata": {},
   "outputs": [],
   "source": [
    "plt.figure(figsize=(11, 6))\n",
    "ax = sns.heatmap(heatmap_df, annot=True, annot_kws={\"size\": 7}, cmap='RdBu',linewidths=0.5, linecolor='#dee2e6')\n",
    "\n",
    "cbar = ax.collections[0].colorbar\n",
    "cbar.set_label('Lift')\n",
    "\n",
    "ax.set_frame_on(False)\n",
    "#ax.set_facecolor('white') \n",
    "\n",
    "plt.xlabel('Consequents')\n",
    "plt.ylabel('Antecedents')\n",
    "plt.show()\n"
   ]
  },
  {
   "cell_type": "markdown",
   "id": "2883de19-826f-49ce-9437-a6f065e11f85",
   "metadata": {},
   "source": [
    "value > 1 -> x1 & x2 -> Y, the combination of x1 and x2 increases the likelihood of purchasing y\n",
    "\n",
    "value < 1 -> x1 & x2 -> Y, the combination of x1 and x2 decreases the likelihood of purchasing y\n",
    "\n",
    "Strong positive association: Coffee and Tea → Cake - significantly increases\n",
    "\n",
    "Weak positive association: Coffee and Bread → Cake, Coffee and Bread → Pastry, Coffee and Cake → Tea - slightly increases \n",
    "\n",
    "Other are negative associations"
   ]
  },
  {
   "cell_type": "markdown",
   "id": "b9acca11-4945-4ffb-8668-5f5658762d53",
   "metadata": {},
   "source": [
    "### **Scatterplot**"
   ]
  },
  {
   "cell_type": "code",
   "execution_count": null,
   "id": "fee855c7-dfe3-4076-94ba-b9a628105602",
   "metadata": {
    "scrolled": true
   },
   "outputs": [],
   "source": [
    "rules_0_01[rules_0_01['antecedents length']==1].sort_values(by = 'confidence', ascending = False).head(50)"
   ]
  },
  {
   "cell_type": "code",
   "execution_count": null,
   "id": "96c091fb-bc92-43d9-8e01-12986585eccc",
   "metadata": {},
   "outputs": [],
   "source": [
    "plt.figure(figsize=(10, 6))\n",
    "sns.scatterplot(x=\"support\", y=\"confidence\", size=\"lift\", hue=\"lift\", data=rules_0_01, palette='RdBu', sizes=(20, 200))\n",
    "plt.title('Metrics')\n",
    "plt.xlabel('support')\n",
    "plt.ylabel('confidence')\n",
    "plt.show()"
   ]
  },
  {
   "cell_type": "markdown",
   "id": "d28bc426-8543-4c14-b5d6-c1debf2346b4",
   "metadata": {},
   "source": [
    "Overall, the scatter plot shows that **most itemsets have low support and low confidence with varying lift values**. Most bubbles are concentrated in the region with support between 1% and 3%. There are some itemsets with confidence values between 50% and 60%, but these are not significant due to their lift being around 1. This suggests that while these itemsets have decent confidence, they don't provide a stronger association beyond what would be expected by chance.\n",
    "\n",
    "The majority of itemsets have confidence below 30%, indicating that if I purchase item X, the probability of also purchasing item Y is around 30%. High lift values are observed when confidence is relatively low (around 10-20%) and support is between 1% and 2.5%. This indicates that although these itemsets are infrequent and have lower confidence, the strength of the association is higher when they do occur.\n"
   ]
  },
  {
   "cell_type": "markdown",
   "id": "8693e0c5-bdf3-48c8-a6ea-ff3ce9fa2d03",
   "metadata": {
    "jp-MarkdownHeadingCollapsed": true
   },
   "source": [
    "### **Parallel Category Plots**"
   ]
  },
  {
   "cell_type": "code",
   "execution_count": null,
   "id": "53c9fd7f-ba14-4e29-9673-4f7ffc2ce95e",
   "metadata": {
    "scrolled": true
   },
   "outputs": [],
   "source": [
    "rules_0_01"
   ]
  },
  {
   "cell_type": "code",
   "execution_count": null,
   "id": "869ca3e0-aeab-46b4-8bbf-63bd0089e4dd",
   "metadata": {},
   "outputs": [],
   "source": [
    "#len(transactions)"
   ]
  },
  {
   "cell_type": "code",
   "execution_count": null,
   "id": "b0b8c642-5ad7-4bc7-8241-6f25e38d61bb",
   "metadata": {},
   "outputs": [],
   "source": [
    "b = rules_0_01\n",
    "b['uni'] = np.nan\n",
    "b['ant'] = np.nan\n",
    "b['con'] = np.nan\n",
    "b['tot'] = 9465\n",
    "transactions = [ a[1]['Item'].tolist() for a in list(basket.groupby(['Transaction']))]\n",
    "\n",
    "def trans():\n",
    "    for t in transactions:\n",
    "        yield t\n",
    "    \n",
    "def ant(x):\n",
    "    cnt = 0\n",
    "    for t in trans():\n",
    "        t = set(t)\n",
    "        if x.intersection(t) == x:\n",
    "            cnt = cnt + 1 \n",
    "    return cnt\n",
    "\n",
    "bb = b.values.tolist()  \n",
    "\n",
    "rules_dict = []\n",
    "for bbb in bb:\n",
    "    bbb[10] = ant(bbb[0])\n",
    "    bbb[11] = ant(bbb[1])\n",
    "    bbb[9] = ant(bbb[0].union(bbb[1]))\n",
    "    diction = {\n",
    "        'lhs': tuple(bbb[0]), \n",
    "        'rhs': tuple(bbb[1]),\n",
    "        'count_full': bbb[9],\n",
    "        'count_lhs': bbb[10],\n",
    "        'count_rhs': bbb[11],\n",
    "        'num_transactions': len(transactions)\n",
    "    }\n",
    "    rules_dict.append(diction)"
   ]
  },
  {
   "cell_type": "code",
   "execution_count": null,
   "id": "c1b60932-b211-4171-9d7a-ab1465fe40de",
   "metadata": {},
   "outputs": [],
   "source": [
    "rules_dict"
   ]
  },
  {
   "cell_type": "code",
   "execution_count": null,
   "id": "7d9a0b56-9ffe-4040-ab9c-98f9e9834f4f",
   "metadata": {
    "scrolled": true
   },
   "outputs": [],
   "source": [
    "rules = []\n",
    "for rd in rules_dict: \n",
    "    rules.append(generate_rule_from_dict(rd))\n",
    "rules"
   ]
  },
  {
   "cell_type": "code",
   "execution_count": null,
   "id": "6724e6c2-71ca-45e9-aaaf-12db64ebab5e",
   "metadata": {},
   "outputs": [],
   "source": [
    "#type(rules[0])\n",
    "# print(dir(rules[0]))"
   ]
  },
  {
   "cell_type": "code",
   "execution_count": null,
   "id": "85fb2807-3f5e-4ba2-b6e1-c8117de1bea8",
   "metadata": {
    "scrolled": true
   },
   "outputs": [],
   "source": [
    "# Verification \n",
    "# bread_rules = [\n",
    "#     rule for rule in rules\n",
    "#     if \"Bread\" in rule.lhs or \"Bread\" in rule.rhs\n",
    "# ]\n",
    "\n",
    "# for rule in bread_rules:\n",
    "#     print(rule)"
   ]
  },
  {
   "cell_type": "code",
   "execution_count": null,
   "id": "36ac35fa-46f0-4d8d-8401-da63a76db2a8",
   "metadata": {},
   "outputs": [],
   "source": [
    "# medialuna_rules = [\n",
    "#     rule for rule in rules\n",
    "#     if \"Medialuna\" in rule.lhs or \"Medialuna\" in rule.rhs\n",
    "# ]\n",
    "\n",
    "# for rule in medialuna_rules:\n",
    "#     print(rule)"
   ]
  },
  {
   "cell_type": "markdown",
   "id": "e4fad8ba-686d-4062-8670-456440bdfbc1",
   "metadata": {},
   "source": [
    "### Way 1"
   ]
  },
  {
   "cell_type": "code",
   "execution_count": null,
   "id": "c5da90c8-53d0-484b-a174-788fa28ec710",
   "metadata": {},
   "outputs": [],
   "source": [
    "PyARMViz.generate_parallel_category_plot(rules)"
   ]
  },
  {
   "cell_type": "markdown",
   "id": "11dda607-eafe-4905-9633-28a30ba5fba7",
   "metadata": {},
   "source": [
    "First plot\n",
    "1. The plot features two vertical axes. The left axis represents Antecedent 1, and the right axis represents the Consequent.\n",
    "2. Each axis is segmented into categories. The width of the rectangular marker next to each category's name indicates the number of rules associated with that category. A broader marker signifies a higher count of rules originating from or leading to that category.\n",
    "3. The most frequent Antecedent 1 is \"coffee\" (count = 16), followed by \"bread\" (count = 10), and \"cake\" and \"tea\" (both with counts = 4). The Consequent axis mirrors this distribution, indicating that \"coffee\" is also the most common consequent.\n",
    "4. Each line represents an individual association rule. The uniform thickness of the lines and the hover information (count = 1) suggest that each association occurs exactly once, with no variation in frequency.\n",
    "5. Example:\n",
    "   \n",
    "**Antecedent 1 (Coffee) → Consequent (Brownie) \n",
    "If a customer buys coffee, they are likely to buy a brownie.**"
   ]
  },
  {
   "cell_type": "markdown",
   "id": "21644807-5a45-4551-8d50-7197221beb31",
   "metadata": {},
   "source": [
    "Second plot - multi-step purchasing behavior\n",
    "1. This plot introduces an additional layer. It has three vertical axes: Antecedent 2 on the left, Antecedent 1 in the center, and the Consequent on the right.\n",
    "2. Similar to the first plot, categories are represented with rectangular markers, with width indicating rule frequency.\n",
    "3. The most common Antecedent 2 is \"coffee\" (count = 6), the most frequent Antecedent 1 is \"cake\" (count = 3), and the most common Consequent is \"coffee\" again (count = 3).\n",
    "4. As with the first plot, each line represents a single rule with a count of 1, indicated by the hover information and consistent line thickness.\n",
    "5. Example:\n",
    "\n",
    "**Antecedent 2 (Cake) → Antecedent 1 (Tea) → Consequent (Coffee)\n",
    "Customers who first select \"cake\" tend to also choose \"tea,\" and then they are likely to purchase \"coffee\" as well.**"
   ]
  },
  {
   "cell_type": "markdown",
   "id": "6239f038-4c29-450a-b7b6-a923658117e0",
   "metadata": {},
   "source": [
    "### Way 2"
   ]
  },
  {
   "cell_type": "code",
   "execution_count": null,
   "id": "82eb1d50-9c10-414a-a439-00e17da5c933",
   "metadata": {},
   "outputs": [],
   "source": [
    "rules_df = pd.DataFrame(rules_dict)\n",
    "\n",
    "rules_df = rules_df.sort_values(by='count_full', ascending=False)\n",
    "import plotly.express as px\n",
    "\n",
    "# Create the parallel categories plot\n",
    "fig = px.parallel_categories(\n",
    "    rules_df,\n",
    "    dimensions=['lhs', 'rhs'],\n",
    "    color='count_full',  # You can color by 'support', 'confidence', 'lift', etc.\n",
    "    color_continuous_scale=px.colors.sequential.RdBu\n",
    ")\n",
    "\n",
    "fig.update_layout(\n",
    "    title='Parallel categories plot of association rules',\n",
    "    coloraxis_colorbar=dict(\n",
    "        title=\"support count\"\n",
    "    )\n",
    ")\n",
    "\n",
    "fig.show()"
   ]
  },
  {
   "cell_type": "markdown",
   "id": "5a0c2a09-fd33-4fb4-9a0b-60ef64547822",
   "metadata": {},
   "source": [
    "In this plot, blue lines represent rules with high support, indicating they occur most frequently in the dataset. Red lines, on the other hand, represent rules with lower support, meaning they are less common. **The majority of the rules are depicted by red lines, suggesting that most of the associations in this dataset have low support and are not frequent.**\n",
    "\n",
    "Unlike the previous plot, this one also organizes categories on both axes, from the most frequent to the least frequent. This means that by simply glancing at the plot, we can quickly identify the most common categories in a dataset. Considering our dataset **Coffee, Bread, Cake, and Tea are the most frequent items appearing on both the left-hand side (LHS) and the right-hand side (RHS) of the rules.**"
   ]
  },
  {
   "cell_type": "markdown",
   "id": "220c5077-6c06-400e-9640-1a60965b4db0",
   "metadata": {},
   "source": [
    "<div class=\"alert alert-block alert-danger\"> Coffee is overly dominant in the dataset, it might overshadow other potentially interesting patterns or associations -> removing it could help reveal less obvious relationships between other items,</div>"
   ]
  },
  {
   "cell_type": "markdown",
   "id": "d18652cd-36d8-4455-b68e-096908fbafdc",
   "metadata": {
    "jp-MarkdownHeadingCollapsed": true
   },
   "source": [
    "### **Network graph**"
   ]
  },
  {
   "cell_type": "code",
   "execution_count": null,
   "id": "632c29ac-74c8-406a-8177-174b4a4dc207",
   "metadata": {},
   "outputs": [],
   "source": [
    "PyARMViz.generate_rule_graph_plotly(rules)"
   ]
  },
  {
   "cell_type": "markdown",
   "id": "2ae0759a-3908-48f7-892f-49a5b8619c41",
   "metadata": {},
   "source": [
    "## **7. Final conclusions and recommendations** <a id=\"Step7\"></a>"
   ]
  },
  {
   "cell_type": "markdown",
   "id": "9aaf47e2-a0a5-435b-bcf5-bc90686e004f",
   "metadata": {
    "jp-MarkdownHeadingCollapsed": true
   },
   "source": [
    "#### Rules"
   ]
  },
  {
   "cell_type": "code",
   "execution_count": null,
   "id": "105dded1-b5af-46df-afa5-2ba04d475a42",
   "metadata": {},
   "outputs": [],
   "source": [
    "rules_0_05.sort_values(by = 'confidence', ascending = False)"
   ]
  },
  {
   "cell_type": "code",
   "execution_count": null,
   "id": "3a5b2a08-9a6f-4733-af23-a6f6dd8b00ec",
   "metadata": {
    "scrolled": true
   },
   "outputs": [],
   "source": [
    "rules_0_01[(rules_0_01['antecedents length']==1) & (rules_0_01['lift'] > 1)].sort_values(by = 'confidence', ascending = False).head(50)"
   ]
  },
  {
   "cell_type": "code",
   "execution_count": null,
   "id": "6b6fea83-3fcc-4d9f-b3ed-0497d1129017",
   "metadata": {},
   "outputs": [],
   "source": [
    "rules_0_01[(rules_0_01['antecedents length']==2)& (rules_0_01['lift'] > 1)].sort_values(by = 'confidence', ascending = False).head(50)"
   ]
  },
  {
   "cell_type": "markdown",
   "id": "ad4dbe1a-5ae8-4ad3-a12c-b1e79744180d",
   "metadata": {},
   "source": [
    "Marketing strategies"
   ]
  },
  {
   "cell_type": "markdown",
   "id": "70a35c2d-2835-48bd-bc7a-e4f66d84a46e",
   "metadata": {},
   "source": [
    "#### 1. **Toast -> Coffee (70% chance of buying Coffee)**"
   ]
  },
  {
   "cell_type": "markdown",
   "id": "aa34cfef-0929-4a0a-8208-282eb446cbc2",
   "metadata": {},
   "source": [
    "*“Toast your day with Coffee – your perfect breakfast duo”*"
   ]
  },
  {
   "cell_type": "markdown",
   "id": "08d9902d-4e88-4f59-814c-372cad76bdbb",
   "metadata": {},
   "source": [
    "Promotion:\n",
    "- bundle offer: Toast + Coffee at a special combo price, e.g., “Grab toast and get coffee at 20% off.”\n",
    "- visual merchandising: Use signage showing steaming coffee and fresh toast together, emphasizing the morning rush appeal.\n",
    "- digital marketing: Promote on social media with a “Start Your Day Right” theme, featuring happy customers enjoying their morning toast and coffee."
   ]
  },
  {
   "cell_type": "markdown",
   "id": "64cbdc6f-c863-4324-95c7-136675744301",
   "metadata": {},
   "source": [
    "#### 2. **Spanish Brunch -> Coffee (60% chance of buying Coffee)**"
   ]
  },
  {
   "cell_type": "markdown",
   "id": "426b16b1-b4ab-4f07-8dc0-58478497bcef",
   "metadata": {},
   "source": [
    "*“Savor the flavor: Spanish brunch & a perfect coffee”*"
   ]
  },
  {
   "cell_type": "markdown",
   "id": "7db6ab91-8295-42ea-a8ef-9c16b8a18bc4",
   "metadata": {},
   "source": [
    "Promotion:\n",
    "- special brunch days: Promote certain days as “Brunch Days” with special pricing or a small added incentive, like a free refill or mini dessert.\n",
    "- themed days: Highlight cultural themes, like “Spanish Sunday Brunch,” to attract brunch enthusiasts."
   ]
  },
  {
   "cell_type": "markdown",
   "id": "ec7e5ece-f853-4e44-92ad-e942698bacf3",
   "metadata": {
    "jp-MarkdownHeadingCollapsed": true
   },
   "source": [
    "#### 3. **Sweet Pastry (like Medialuna, Alfajores, Cake, Cookies) -> Coffee (more than 50% chance of buying coffee)**"
   ]
  },
  {
   "cell_type": "markdown",
   "id": "f3ec9396-b942-4bd6-82e8-fc3680e85d09",
   "metadata": {},
   "source": [
    "*“Sweet moments deserve coffee”*"
   ]
  },
  {
   "cell_type": "markdown",
   "id": "c19624b1-64c6-457e-a4c6-101d7a54a406",
   "metadata": {},
   "source": [
    "Promotion:\n",
    "- coffee & sweet treat special: Offer a combo price, like “Add any sweet treat to your coffee for a discount.”\n",
    "- happy hour: Introduce a coffee and sweet combo deal during afternoon hours to capture the post-lunch crowd.\n",
    "- social media campaign: Run a “Sweet pairing of the day” where you feature a different pastry and coffee combo, encouraging customers to try new things."
   ]
  },
  {
   "cell_type": "markdown",
   "id": "f2c83a2c-ca09-450f-95a8-9ed80870aba8",
   "metadata": {},
   "source": [
    "#### 4. **Juice / Hot chocolate  -> Coffee ( 53% / 51% chance of buying coffee )**"
   ]
  },
  {
   "cell_type": "markdown",
   "id": "151cd082-6bf8-49bb-a965-c0df340281a7",
   "metadata": {},
   "source": [
    "*“Juice for you, coffee for me – the duo delight!”*"
   ]
  },
  {
   "cell_type": "markdown",
   "id": "2781c4bd-3448-4cee-929d-3ce26fd05a2d",
   "metadata": {},
   "source": [
    "Promotion:\n",
    "- couple/ friends combo: Special pricing when purchased together.\n",
    "- engage through special events: “Bring a Friend” days or themed offers that cater to social gatherings, with extra incentives like a free mini treat when bought in pairs."
   ]
  },
  {
   "cell_type": "markdown",
   "id": "dcace170-51c9-4186-85e1-0a151ebf2bec",
   "metadata": {
    "jp-MarkdownHeadingCollapsed": true
   },
   "source": [
    "#### 5. **Coffee + Tea -> Cake (20% Confidence) | Coffee + Cake -> Tea (18% Confidence)**"
   ]
  },
  {
   "cell_type": "markdown",
   "id": "5e446ec4-8398-4570-a5c1-6b58a68468d2",
   "metadata": {},
   "source": [
    "*“Cake completes the sip: coffee, tea and something sweet”*"
   ]
  },
  {
   "cell_type": "markdown",
   "id": "c374e491-a9a5-4538-ad4e-bb0f90edf977",
   "metadata": {},
   "source": [
    "Promotion:\n",
    "- complementary add-ons: Suggest cake when coffee and tea are ordered together. Offer small discounts for adding cake.\n",
    "- tea time special: Promote a “Tea Time Special” with coffee, tea, and a slice of cake for a combined price, ideal for afternoon breaks.\n",
    "- tabletop suggestions: Use tabletop displays or digital menu boards to suggest these add-ons with prompts like, “Enjoy with a slice of cake” when ordering coffee and tea."
   ]
  },
  {
   "cell_type": "markdown",
   "id": "95d36392-e039-41c0-8e20-79930c1b59e8",
   "metadata": {},
   "source": [
    "#### **General marketing tactics across all combos** \n",
    "1. Create a <u>loyalty program</u> that rewards customers for frequently purchasing these pairs. For example, after purchasing a combo five times, they get the next coffee or treat free.\n",
    "2. Feature <u>customer testimonials, photos, or quotes on social media</u> of people enjoying these pairings, highlighting the social aspect of dining at your bakery.\n",
    "3. Tailor these pairings to <u>seasonal themes</u>, like autumn flavors for pastries or cozy hot chocolate in winter, making the offers feel timely and relevant.\n",
    "4. <u>Train staff</u> to suggest these pairings based on the initial order, guiding customers toward these combos in a natural, friendly way."
   ]
  },
  {
   "cell_type": "markdown",
   "id": "7cb08630-07fd-4968-8816-3ec8e79617b9",
   "metadata": {},
   "source": [
    "#### **Final thoughts** "
   ]
  },
  {
   "cell_type": "markdown",
   "id": "d9a74623-1795-43db-9ee0-2d2d5ec04b56",
   "metadata": {},
   "source": [
    "**People love buying coffee**, it is a key driver of complementary sales. Customers frequently pair coffee with other items, such as pastries, cakes, or light meals like toast or a Spanish brunch. While this behavior is not new, it serves as a powerful validation of the concept that coffee often acts as an anchor product, encouraging additional purchases. By tapping into this insight, businesses can strategically boost transaction volume and attract a wider customer base.\n",
    "\n",
    "Implementing this knowledge through targeted promotions—like discounts on pairings, special deals on certain days, or curated combo offers—can significantly enhance profitability. It is essential to continuously monitor how these strategies impact overall sales and profit margins to refine and optimize your approach further.\n",
    "\n",
    "This tactic not only appeals to solo visitors but also creates a welcoming environment for various social scenarios—whether it is a casual meet-up with friends, a date, family outings, or even business conversations. It positions your establishment as a versatile space that caters to all.\n",
    "\n",
    "In our analysis, while many of the association rules identified were similar, the insights were still valuable. Even though supports were relatively low, confidence and lift could be higher, the results reaffirmed expected patterns."
   ]
  }
 ],
 "metadata": {
  "kernelspec": {
   "display_name": "Python 3 (ipykernel)",
   "language": "python",
   "name": "python3"
  },
  "language_info": {
   "codemirror_mode": {
    "name": "ipython",
    "version": 3
   },
   "file_extension": ".py",
   "mimetype": "text/x-python",
   "name": "python",
   "nbconvert_exporter": "python",
   "pygments_lexer": "ipython3",
   "version": "3.10.9"
  }
 },
 "nbformat": 4,
 "nbformat_minor": 5
}
